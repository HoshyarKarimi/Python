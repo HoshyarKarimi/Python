{
 "cells": [
  {
   "cell_type": "code",
   "execution_count": 1,
   "metadata": {},
   "outputs": [],
   "source": [
    "import numpy as np"
   ]
  },
  {
   "cell_type": "code",
   "execution_count": 2,
   "metadata": {},
   "outputs": [],
   "source": [
    "matrix = np.array([[1, 2, 3], [4, 5, 6], [7, 8, 9]])"
   ]
  },
  {
   "cell_type": "code",
   "execution_count": 7,
   "metadata": {},
   "outputs": [
    {
     "name": "stdout",
     "output_type": "stream",
     "text": [
      "[[1 2 3]\n",
      " [4 5 6]\n",
      " [7 8 9]]\n",
      "2\n",
      "[[ 30  36  42]\n",
      " [ 66  81  96]\n",
      " [102 126 150]]\n",
      "(3, 3)\n",
      "[1 5 9]\n",
      "[1 2 3 4 5 6 7 8 9]\n",
      "[[1 4 7]\n",
      " [2 5 8]\n",
      " [3 6 9]]\n",
      "1\n",
      "9\n",
      "5.0\n",
      "45\n"
     ]
    }
   ],
   "source": [
    "print(matrix)\n",
    "print(matrix[0, 1])\n",
    "print(matrix @ matrix)\n",
    "print(matrix.shape)\n",
    "print(matrix.diagonal())\n",
    "print(matrix.flatten())\n",
    "print(matrix.transpose())\n",
    "print(matrix.min())\n",
    "print(matrix.max())\n",
    "print(matrix.mean())\n",
    "print(matrix.sum())"
   ]
  },
  {
   "cell_type": "code",
   "execution_count": 6,
   "metadata": {},
   "outputs": [
    {
     "name": "stdout",
     "output_type": "stream",
     "text": [
      "[[ 4  4]\n",
      " [10  8]]\n"
     ]
    }
   ],
   "source": [
    "my_matrix1 = np.array([[1, 2], [3, 4]])\n",
    "my_matrix2 = np.array([[2, 0], [1, 2]])\n",
    "print(my_matrix1 @ my_matrix2)"
   ]
  }
 ],
 "metadata": {
  "kernelspec": {
   "display_name": "Python 3.10.6 ('Python-ILe0hv5_')",
   "language": "python",
   "name": "python3"
  },
  "language_info": {
   "codemirror_mode": {
    "name": "ipython",
    "version": 3
   },
   "file_extension": ".py",
   "mimetype": "text/x-python",
   "name": "python",
   "nbconvert_exporter": "python",
   "pygments_lexer": "ipython3",
   "version": "3.10.6"
  },
  "orig_nbformat": 4,
  "vscode": {
   "interpreter": {
    "hash": "88d60a788cf948850f9b1c17362383c905f6d8c0aeb7002bc32329fa3cd13467"
   }
  }
 },
 "nbformat": 4,
 "nbformat_minor": 2
}
