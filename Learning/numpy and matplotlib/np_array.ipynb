{
 "cells": [
  {
   "cell_type": "code",
   "execution_count": null,
   "metadata": {},
   "outputs": [],
   "source": [
    "import numpy as np"
   ]
  },
  {
   "cell_type": "code",
   "execution_count": null,
   "metadata": {},
   "outputs": [],
   "source": [
    "matrix = np.array([[1, 2, 3], [4, 5, 6], [7, 8, 9]])"
   ]
  },
  {
   "cell_type": "code",
   "execution_count": null,
   "metadata": {},
   "outputs": [],
   "source": [
    "print(matrix)\n",
    "print(matrix[0, 1])\n",
    "print(matrix @ matrix)\n",
    "print(matrix.shape)\n",
    "print(matrix.diagonal())\n",
    "print(matrix.flatten())\n",
    "print(matrix.transpose())\n",
    "print(matrix.min())\n",
    "print(matrix.max())\n",
    "print(matrix.mean())\n",
    "print(matrix.sum())"
   ]
  },
  {
   "cell_type": "code",
   "execution_count": null,
   "metadata": {},
   "outputs": [],
   "source": [
    "my_matrix1 = np.array([[1, 2], [3, 4]])\n",
    "my_matrix2 = np.array([[2, 0], [1, 2]])\n",
    "print(my_matrix1 @ my_matrix2)\n",
    "print(np.vstack([my_matrix1, my_matrix2]))\n",
    "print(np.hstack([my_matrix1, my_matrix2]))\n",
    "print(my_matrix1.reshape(1, 4))"
   ]
  },
  {
   "cell_type": "code",
   "execution_count": null,
   "metadata": {},
   "outputs": [],
   "source": [
    "# print(np.arange(1, 13).reshape(3, 2, 2))\n",
    "print(np.arange(1, 24, 2).reshape(3, 2, 2))"
   ]
  },
  {
   "cell_type": "code",
   "execution_count": null,
   "metadata": {},
   "outputs": [],
   "source": [
    "print(np.random.random([3, 3]))"
   ]
  }
 ],
 "metadata": {
  "kernelspec": {
   "display_name": "Python 3.10.6 ('Python-ILe0hv5_')",
   "language": "python",
   "name": "python3"
  },
  "language_info": {
   "codemirror_mode": {
    "name": "ipython",
    "version": 3
   },
   "file_extension": ".py",
   "mimetype": "text/x-python",
   "name": "python",
   "nbconvert_exporter": "python",
   "pygments_lexer": "ipython3",
   "version": "3.10.6"
  },
  "orig_nbformat": 4,
  "vscode": {
   "interpreter": {
    "hash": "88d60a788cf948850f9b1c17362383c905f6d8c0aeb7002bc32329fa3cd13467"
   }
  }
 },
 "nbformat": 4,
 "nbformat_minor": 2
}
